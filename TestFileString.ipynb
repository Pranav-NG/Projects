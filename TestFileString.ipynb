{
 "cells": [
  {
   "cell_type": "code",
   "execution_count": 2,
   "id": "a8255487",
   "metadata": {},
   "outputs": [
    {
     "name": "stdout",
     "output_type": "stream",
     "text": [
      "Pranav Nathan Datazoic\n"
     ]
    }
   ],
   "source": [
    "str1=\"Pranav\"\n",
    "str2=\" \"\n",
    "str3=\"Nathan\"\n",
    "str4=\" \"\n",
    "str5=\"Datazoic Company Ltd\"\n",
    "\n",
    "str=str1+str2+str3+str4+str5\n",
    "print(str)"
   ]
  }
 ],
 "metadata": {
  "kernelspec": {
   "display_name": "Python 3",
   "language": "python",
   "name": "python3"
  },
  "language_info": {
   "codemirror_mode": {
    "name": "ipython",
    "version": 3
   },
   "file_extension": ".py",
   "mimetype": "text/x-python",
   "name": "python",
   "nbconvert_exporter": "python",
   "pygments_lexer": "ipython3",
   "version": "3.8.8"
  }
 },
 "nbformat": 4,
 "nbformat_minor": 5
}
